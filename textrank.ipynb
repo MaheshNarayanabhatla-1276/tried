{
 "cells": [
  {
   "cell_type": "code",
   "execution_count": 1,
   "id": "3aabc393",
   "metadata": {},
   "outputs": [],
   "source": [
    "import spacy"
   ]
  },
  {
   "cell_type": "code",
   "execution_count": 2,
   "id": "8b10c113",
   "metadata": {},
   "outputs": [],
   "source": [
    "import pytextrank"
   ]
  },
  {
   "cell_type": "code",
   "execution_count": 3,
   "id": "a7fc6d25",
   "metadata": {},
   "outputs": [],
   "source": [
    "from summa import summarizer\n",
    "from summa import keywords"
   ]
  },
  {
   "cell_type": "code",
   "execution_count": 4,
   "id": "1d9e3bc7",
   "metadata": {},
   "outputs": [],
   "source": [
    "text=str(\"It is widely accepted that the design of a novel drug is a challenging, time-consuming and very expensive endeavor. Consequently, approaches to increase the speed and to decrease the failure rate and the cost of drug discovery programs are of major importance. Among them, computer-aided drug design has become a key source for information, rationalization and inventiveness. Meanwhile, cancer remains one of the most lethal diseases with 18.1 million cases and 9.6 million deaths in 2018. Although therapeutic options continually progress, there is still an urgent need for novel and more efficient cancer treatments.Here, we review the general concepts and algorithms of computer-aided drug design and illustrate them with selected methodological developments. We also provide numerous recent examples of applications for the design of anticancer drugs, which demonstrate the capacity of such in silico approaches to help expediting the creation of new treatments and their impact in oncology. We ultimately discuss the importance of the emerging drug repurposing and polypharmacology strategies in the search for new cancer therapies, and the role of computer-aided drug design in this context.\")\n",
    "import nltk\n",
    "text=nltk.tokenize.word_tokenize(text)"
   ]
  },
  {
   "cell_type": "code",
   "execution_count": 5,
   "id": "c5268141",
   "metadata": {},
   "outputs": [],
   "source": [
    "import pandas as pd\n",
    "df=pd.read_excel('thoughts.xlsx')\n",
    "df=df.iloc[:,1:]\n",
    "text=df\n",
    "text=df.to_string()"
   ]
  },
  {
   "cell_type": "code",
   "execution_count": 6,
   "id": "2de59868",
   "metadata": {},
   "outputs": [
    {
     "name": "stdout",
     "output_type": "stream",
     "text": [
      "I found myself getting upset by quite trivial things.\n",
      "2             I experienced breathing difficulty (eg, excessively rapid breathing, breathlessness in the absence of physical exertion).\n",
      "9                                                                                           I found myself getting upset rather easily.\n",
      "14                                                                            I felt that I had lost interest in just about everything.\n",
      "16                                                                                                     I felt that I was rather touchy.\n",
      "23  I was aware of the action of my heart in the absence of physical exertion (eg, sense of heart rate increase, heart missing a beat).\n",
      "26                                                                                                         I felt I was close to panic.\n",
      "34                                                                                                                    I felt terrified.\n"
     ]
    }
   ],
   "source": [
    "print(summarizer.summarize(text))"
   ]
  },
  {
   "cell_type": "code",
   "execution_count": 7,
   "id": "96f06f58",
   "metadata": {},
   "outputs": [
    {
     "name": "stdout",
     "output_type": "stream",
     "text": [
      "getting upset\n",
      "impatient\n",
      "agitated\n",
      "felt\n",
      "breathing\n",
      "going\n",
      "legs\n",
      "nervous\n",
      "good\n",
      "reason\n"
     ]
    }
   ],
   "source": [
    "print(keywords.keywords(text))"
   ]
  },
  {
   "cell_type": "code",
   "execution_count": 8,
   "id": "44fa1d60",
   "metadata": {},
   "outputs": [
    {
     "data": {
      "text/plain": [
       "'I found myself getting upset by quite trivial things.\\n2             I experienced breathing difficulty (eg, excessively rapid breathing, breathlessness in the absence of physical exertion).\\n9                                                                                           I found myself getting upset rather easily.\\n14                                                                            I felt that I had lost interest in just about everything.\\n16                                                                                                     I felt that I was rather touchy.\\n23  I was aware of the action of my heart in the absence of physical exertion (eg, sense of heart rate increase, heart missing a beat).\\n26                                                                                                         I felt I was close to panic.\\n34                                                                                                                    I felt terrified.'"
      ]
     },
     "execution_count": 8,
     "metadata": {},
     "output_type": "execute_result"
    }
   ],
   "source": [
    "summarizer.summarize(text, words=90)"
   ]
  }
 ],
 "metadata": {
  "kernelspec": {
   "display_name": "Python 3",
   "language": "python",
   "name": "python3"
  },
  "language_info": {
   "codemirror_mode": {
    "name": "ipython",
    "version": 3
   },
   "file_extension": ".py",
   "mimetype": "text/x-python",
   "name": "python",
   "nbconvert_exporter": "python",
   "pygments_lexer": "ipython3",
   "version": "3.8.8"
  }
 },
 "nbformat": 4,
 "nbformat_minor": 5
}
